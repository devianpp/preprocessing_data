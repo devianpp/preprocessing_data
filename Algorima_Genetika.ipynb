{
  "nbformat": 4,
  "nbformat_minor": 0,
  "metadata": {
    "colab": {
      "name": "Algorima Genetika.ipynb",
      "provenance": [],
      "authorship_tag": "ABX9TyPZkoatUbraWmJxlI/06vrW",
      "include_colab_link": true
    },
    "kernelspec": {
      "name": "python3",
      "display_name": "Python 3"
    },
    "language_info": {
      "name": "python"
    }
  },
  "cells": [
    {
      "cell_type": "markdown",
      "metadata": {
        "id": "view-in-github",
        "colab_type": "text"
      },
      "source": [
        "<a href=\"https://colab.research.google.com/github/devianpp/preprocessing_data/blob/main/Algorima_Genetika.ipynb\" target=\"_parent\"><img src=\"https://colab.research.google.com/assets/colab-badge.svg\" alt=\"Open In Colab\"/></a>"
      ]
    },
    {
      "cell_type": "markdown",
      "metadata": {
        "id": "CKI2lSOuOyRK"
      },
      "source": [
        "Penerapan Algoritma Genetika untuk menyelesaikan TSP"
      ]
    },
    {
      "cell_type": "markdown",
      "metadata": {
        "id": "uZd_dvT3d665"
      },
      "source": [
        "Permasalahan : Dipa adalah wisatawan yang akan mengunjungi sejumlah n kota. setiap kota dikunjungi tepat satu kali. dari kota terakhir, Dipa akan kembali lagi ke kota awal."
      ]
    },
    {
      "cell_type": "markdown",
      "metadata": {
        "id": "5mxqk7FhfFBG"
      },
      "source": [
        "Tujuan : mencari rute terpendek untuk mengunjungi sejumlah kota."
      ]
    },
    {
      "cell_type": "markdown",
      "metadata": {
        "id": "sBcWr9Q7kvaq"
      },
      "source": [
        "Penerapan Algoritma Genetika untuk menyelesaikan TSP"
      ]
    },
    {
      "cell_type": "markdown",
      "metadata": {
        "id": "h84dMKW_klRZ"
      },
      "source": [
        "![Untitled Diagram (3).png](data:image/png;base64,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)"
      ]
    },
    {
      "cell_type": "markdown",
      "metadata": {
        "id": "TuXaJAhkO7XX"
      },
      "source": [
        "Memanggil Library"
      ]
    },
    {
      "cell_type": "code",
      "metadata": {
        "id": "ytKDx8yaOj8S"
      },
      "source": [
        "import numpy as np\n",
        "import random\n",
        "from array import *"
      ],
      "execution_count": null,
      "outputs": []
    },
    {
      "cell_type": "markdown",
      "metadata": {
        "id": "D1uuOumLPT_H"
      },
      "source": [
        "Membuat daftar kota"
      ]
    },
    {
      "cell_type": "code",
      "metadata": {
        "colab": {
          "base_uri": "https://localhost:8080/"
        },
        "id": "WYZu4D1rPSw8",
        "outputId": "fac35ed7-9bec-48b7-fce9-ce3f9a477eed"
      },
      "source": [
        "daftarKota = [[0,0], [5,6], [1, 4], [3,4],[7,7]]\n",
        "print(\"Koordinat Kota\")\n",
        "for i in daftarKota:\n",
        "    for j in i:\n",
        "        print(j,end = \" \")\n",
        "    print()\n",
        "\n",
        "jumlahKota =  len(daftarKota)   \n",
        "print(\"Jumlah Kota : \",jumlahKota)"
      ],
      "execution_count": null,
      "outputs": [
        {
          "output_type": "stream",
          "text": [
            "Koordinat Kota\n",
            "0 0 \n",
            "5 6 \n",
            "1 4 \n",
            "3 4 \n",
            "7 7 \n",
            "Jumlah Kota :  5\n"
          ],
          "name": "stdout"
        }
      ]
    },
    {
      "cell_type": "markdown",
      "metadata": {
        "id": "vt4_XW-gSdGr"
      },
      "source": [
        "Inisialisasi Populasi secara acak"
      ]
    },
    {
      "cell_type": "markdown",
      "metadata": {
        "id": "WNzkaSwQSqKA"
      },
      "source": [
        "array P diinisialisasikan sebagai array integer"
      ]
    },
    {
      "cell_type": "code",
      "metadata": {
        "colab": {
          "base_uri": "https://localhost:8080/"
        },
        "id": "3yZ8kYw6ScVb",
        "outputId": "a4de3b8b-3b9b-49ed-b075-6295911d301a"
      },
      "source": [
        "def initPopulasi(ukuranPopulasi,jumlahKota):\n",
        "  P = np.empty((ukuranPopulasi,jumlahKota))\n",
        "  P = P.astype('int')\n",
        "  for i in range(ukuranPopulasi):\n",
        "    I = np.random.permutation(jumlahKota)\n",
        "    for j in range(jumlahKota):\n",
        "      P[i][j]=I[j]\n",
        "  return P\n",
        "\n",
        "\n",
        "ukuranPopulasi = 4\n",
        "P = initPopulasi (ukuranPopulasi,jumlahKota)\n",
        "print(P)"
      ],
      "execution_count": null,
      "outputs": [
        {
          "output_type": "stream",
          "text": [
            "[[1 0 3 4 2]\n",
            " [1 0 4 3 2]\n",
            " [4 0 2 3 1]\n",
            " [2 3 4 0 1]]\n"
          ],
          "name": "stdout"
        }
      ]
    },
    {
      "cell_type": "markdown",
      "metadata": {
        "id": "46pl-F8QXpqu"
      },
      "source": [
        "Membuat fungsi objektif"
      ]
    },
    {
      "cell_type": "markdown",
      "metadata": {
        "id": "pvX9QQ-0Xszy"
      },
      "source": [
        "jarak yang diukur adalah jarak euclidian"
      ]
    },
    {
      "cell_type": "code",
      "metadata": {
        "colab": {
          "base_uri": "https://localhost:8080/"
        },
        "id": "L2yhmHFSXxq8",
        "outputId": "f2ec7e91-cf24-47a6-eda7-2d32ef87ec04"
      },
      "source": [
        "def fungsiObjectif(populasi,daftarKota):\n",
        "  sz = populasi.shape\n",
        "  ukuranPopulasi = sz[0]\n",
        "  jumlahKota = sz[1]\n",
        "\n",
        "  matrikJarak = np.empty((ukuranPopulasi))\n",
        "  matrikJarak  = matrikJarak.astype('float')\n",
        "  n = len(daftarKota)\n",
        "\n",
        "  for i in range(ukuranPopulasi):\n",
        "    jarak = 0\n",
        "    for j in range(n-1):\n",
        "      jrkX = daftarKota[populasi[i][j]][0]-daftarKota[populasi[i][j+1]][0]\n",
        "      jrkY = daftarKota[populasi[i][j]][1]-daftarKota[populasi[i][j+1]][1]\n",
        "      d = np.sqrt(jrkX**2 + jrkY**2 )   \n",
        "      jarak = jarak  + d\n",
        "      \n",
        "    dn =  np.sqrt((daftarKota[populasi[i][n-1]][0]-daftarKota[populasi[i][0]][0])**2+ (daftarKota[populasi[i][n-1]][1]-daftarKota[populasi[i][0]][1])**2 )\n",
        "    jarak = jarak  + dn\n",
        "    matrikJarak[i] = jarak\n",
        "\n",
        "  return matrikJarak\n",
        "\n",
        "fitP = fungsiObjectif(P,daftarKota)\n",
        "print(fitP)\n",
        "#print(fitP.dtype)\n"
      ],
      "execution_count": null,
      "outputs": [
        {
          "output_type": "stream",
          "text": [
            "[29.18188057 28.90826195 21.08709566 28.99058956]\n"
          ],
          "name": "stdout"
        }
      ]
    },
    {
      "cell_type": "markdown",
      "metadata": {
        "id": "gTq16jHdcBI_"
      },
      "source": [
        "seleksi menggunakan tournamen wheel"
      ]
    },
    {
      "cell_type": "markdown",
      "metadata": {
        "id": "PFkg3d9vcFv9"
      },
      "source": [
        "ukuran k=2"
      ]
    },
    {
      "cell_type": "markdown",
      "metadata": {
        "id": "DWE55cOxcJXY"
      },
      "source": [
        "jumlah induk yang akan dipilih adalah 2"
      ]
    },
    {
      "cell_type": "code",
      "metadata": {
        "colab": {
          "base_uri": "https://localhost:8080/"
        },
        "id": "TSdBvQa9cMOj",
        "outputId": "94137245-7ab0-434d-fb34-0b46b855db0c"
      },
      "source": [
        "def seleksi (P,fsObj):\n",
        "  jmlInduk = 2\n",
        "  sz = P.shape\n",
        "  ukuranPopulasi = sz[0]\n",
        "  jumlahKota = sz[1]\n",
        "\n",
        "  Induk = np.empty((jmlInduk,jumlahKota))\n",
        "  Induk = Induk.astype('int')\n",
        "  \n",
        "  for i in range (2):\n",
        "    # memilih dua individu secara acak \n",
        "    r1 = random.randint(0,ukuranPopulasi-1)\n",
        "    r2 = random.randint(0,ukuranPopulasi-1)\n",
        "    \n",
        "    if  fsObj[r1] < fsObj [r2]:\n",
        "      for j in range(jumlahKota):\n",
        "        Induk [i][j] = P[r1][j]\n",
        "    else:\n",
        "      for j in range(jumlahKota):\n",
        "        Induk [i][j] = P[r2][j]\n",
        "  return Induk\n",
        "\n",
        "Induk = seleksi(P,fitP)\n",
        "print(Induk)"
      ],
      "execution_count": null,
      "outputs": [
        {
          "output_type": "stream",
          "text": [
            "[[4 2 1 0 3]\n",
            " [2 1 3 0 4]]\n"
          ],
          "name": "stdout"
        }
      ]
    },
    {
      "cell_type": "markdown",
      "metadata": {
        "id": "z2141wtqditw"
      },
      "source": [
        "Rekombinasi dengan metode PMX juml anak yang dihasilkan adalah 2"
      ]
    },
    {
      "cell_type": "code",
      "metadata": {
        "colab": {
          "base_uri": "https://localhost:8080/"
        },
        "id": "hu7FY1N2dpvk",
        "outputId": "568c5ea9-95a1-459b-ed34-e0450886563d"
      },
      "source": [
        "#crossover \n",
        "\n",
        "def PMX(Induk):\n",
        "  sz = Induk.shape\n",
        "  brs = sz[0]\n",
        "  kol = sz[1]\n",
        "  #print(sz, brs, kol)\n",
        "\n",
        "  Anak = np.empty((2,kol))\n",
        "  Anak = Anak.astype('int')\n",
        "\n",
        "  r1 = random.randint(1,kol-2)\n",
        "\n",
        "  for i0 in range(r1): \n",
        "\n",
        "    Anak [0][i0] = Induk[0][i0]\n",
        "    Anak [1][i0] = Induk[1][i0]\n",
        "\n",
        "  batasCek1 = r1\n",
        "  batasCek2 = r1\n",
        "\n",
        "  for i in range(kol):\n",
        "    m = (i+r1)%kol\n",
        "\n",
        "    n1 = Induk[0][i] \n",
        "    n2 = Induk[1][i]\n",
        "\n",
        "    #mengecek apakah kota tertentu sudah ada di anak\n",
        "    idxAda1 = 0\n",
        "    idxAda2 = 0\n",
        "    for j1 in range(batasCek1): \n",
        "      \n",
        "      if batasCek1>(kol-1):\n",
        "        idxAda1 = 1\n",
        "\n",
        "      if Anak [0][j1] ==n2: \n",
        "        idxAda1 = 1\n",
        "            \n",
        "    for j2 in range(batasCek2): \n",
        "      \n",
        "      if batasCek2>(kol-1):\n",
        "        idxAda2 = 1\n",
        "\n",
        "      if Anak [1][i0]  == n1: \n",
        "        idxAda2 = 1\n",
        "\n",
        "    if idxAda1 == 0:\n",
        "      Anak[0][batasCek1] = n2\n",
        "      batasCek1 = batasCek1 +1\n",
        "   \n",
        "    if idxAda2 == 0:\n",
        "      Anak[1][batasCek2] = n1\n",
        "      batasCek2 = batasCek2 +1\n",
        "   \n",
        "  return Anak\n",
        "\n",
        "AnakCX = PMX(Induk)\n",
        "print(\"Anak :\",AnakCX)"
      ],
      "execution_count": null,
      "outputs": [
        {
          "output_type": "stream",
          "text": [
            "Anak : [[4 2 1 3 0]\n",
            " [2 1 4 2 0]]\n"
          ],
          "name": "stdout"
        }
      ]
    },
    {
      "cell_type": "markdown",
      "metadata": {
        "id": "jiUqIUA8m50N"
      },
      "source": [
        "Mutasi dengan swap"
      ]
    },
    {
      "cell_type": "markdown",
      "metadata": {
        "id": "6Ehdhj9Zm8U5"
      },
      "source": [
        "index kota yang di swap pada kedua anak sama"
      ]
    },
    {
      "cell_type": "code",
      "metadata": {
        "colab": {
          "base_uri": "https://localhost:8080/"
        },
        "id": "QWLJCVlvlMvx",
        "outputId": "b43b8f71-4c12-403c-eacc-368bd2b768a5"
      },
      "source": [
        "def MutasiSwap(Induk):\n",
        "  sz = Induk.shape\n",
        "  brs = sz[0]\n",
        "  kol = sz[1]\n",
        "\n",
        "  Anak = np.empty((2,kol))\n",
        "  Anak = Anak.astype('int')\n",
        "\n",
        "  Anak = Induk\n",
        "\n",
        "  r1 = random.randint(0,kol-1)\n",
        "  r2 = random.randint(0,kol-1)\n",
        "\n",
        "  while r1 == r2:\n",
        "    r2 = random.randint(0,kol-1)\n",
        "\n",
        "  I1rs1 = Induk [0][r1]\n",
        "  I1rs2 = Induk [0][r2]\n",
        "  I2rs1 = Induk [1][r1]\n",
        "  I2rs2 = Induk [1][r2] \n",
        "\n",
        "  Anak [0][r1] = I1rs2\n",
        "  Anak [0][r2] = I1rs1\n",
        "  Anak [1][r1] = I2rs2  \n",
        "  Anak [1][r2] = I2rs1\n",
        "\n",
        "  return Anak\n",
        "\n",
        "print(\"AnakCX :\",AnakCX)\n",
        "AnakM = MutasiSwap(AnakCX)\n",
        "print(\"AnakM :\",AnakM)"
      ],
      "execution_count": null,
      "outputs": [
        {
          "output_type": "stream",
          "text": [
            "AnakCX : [[4 2 1 3 0]\n",
            " [2 1 4 2 0]]\n",
            "AnakM : [[4 2 1 0 3]\n",
            " [2 1 4 0 2]]\n"
          ],
          "name": "stdout"
        }
      ]
    },
    {
      "cell_type": "markdown",
      "metadata": {
        "id": "4iOgK8JzovXX"
      },
      "source": [
        "Elitism (steady state replacement)"
      ]
    },
    {
      "cell_type": "code",
      "metadata": {
        "colab": {
          "base_uri": "https://localhost:8080/"
        },
        "id": "dP6hQoHso05y",
        "outputId": "be3429a8-a073-4a93-fcd2-500458187005"
      },
      "source": [
        "def Elitism(P,Anak,fitP,fitAnak):\n",
        "  szP = P.shape\n",
        "  brsP = szP[0]\n",
        "  kolP = szP[1]\n",
        "  szA = Anak.shape\n",
        "  brsA = szA[0]\n",
        "  kolA = szA[1]\n",
        "\n",
        "  #print (fitP)\n",
        "  for i in range(brsA):\n",
        "    iJelek = fitP.max()\n",
        "    idxJelek = fitP.argmax()\n",
        "\n",
        "    if fitAnak[i]<iJelek:\n",
        "      fitP[idxJelek] = fitAnak[i]\n",
        "      for j in range (kolP):\n",
        "        P[idxJelek][j] = Anak[i][j]\n",
        "\n",
        "  return [P,fitP]\n",
        "\n",
        "fitAnak= fungsiObjectif(AnakM,daftarKota)\n",
        "print(P)\n",
        "print(AnakM)\n",
        "print(fitP)\n",
        "print(fitAnak)\n",
        "P = Elitism (P,AnakM,fitP,fitAnak)\n",
        "print(P)\n",
        "print(fitP)"
      ],
      "execution_count": null,
      "outputs": [
        {
          "output_type": "stream",
          "text": [
            "[[1 2 3 4 0]\n",
            " [2 1 3 0 4]\n",
            " [2 3 1 4 0]\n",
            " [4 2 1 0 3]]\n",
            "[[4 2 1 0 3]\n",
            " [2 1 4 0 2]]\n",
            "[29.18188057 28.90826195 21.08709566 28.99058956]\n",
            "[28.99058956 20.73080449]\n",
            "[array([[2, 1, 4, 0, 2],\n",
            "       [2, 1, 3, 0, 4],\n",
            "       [2, 3, 1, 4, 0],\n",
            "       [4, 2, 1, 0, 3]]), array([20.73080449, 28.90826195, 21.08709566, 28.99058956])]\n",
            "[20.73080449 28.90826195 21.08709566 28.99058956]\n"
          ],
          "name": "stdout"
        }
      ]
    },
    {
      "cell_type": "markdown",
      "metadata": {
        "id": "y4qGQ5-5JaRG"
      },
      "source": [
        "Prosedur GA"
      ]
    },
    {
      "cell_type": "code",
      "metadata": {
        "colab": {
          "base_uri": "https://localhost:8080/"
        },
        "id": "49ieGDmTJTTm",
        "outputId": "8ee4f9f7-996b-43ff-e30e-dc9b1eb00815"
      },
      "source": [
        "# Inisialisasi paramater\n",
        "PCX = 0.95\n",
        "Pm = 0.01\n",
        "ukuranPopulasi = 4\n",
        "max_generasi = 5\n",
        "\n",
        "# Inisialisasi populasi \n",
        "\n",
        "P = initPopulasi (ukuranPopulasi,jumlahKota)\n",
        "print(\"P0 :\",P)\n",
        "\n",
        "#melakukan evaluasi P\n",
        "fitP = fungsiObjectif(P,daftarKota)\n",
        "print(\"fitness populasi awal:\",fitP)\n",
        "\n",
        "print(\"fitness terbaik awal:\",fitP.min())\n",
        "print(\"rute awal :\",P[fitP.argmin()])\n",
        "\n",
        "\n",
        "for i in range(max_generasi):\n",
        "  # print(\"generasi :\",i)\n",
        "  Induk = seleksi(P,fitP)\n",
        "  #print(\"Induk :\",Induk)\n",
        "\n",
        "  Anak = Induk\n",
        "\n",
        "  rxo = random.random()\n",
        "\n",
        "  if rxo < PCX:\n",
        "    Anak = PMX(Induk)\n",
        "    #print(\"AnakXO :\",Anak)\n",
        "\n",
        "    rm = random.random()\n",
        "    if rm < Pm:\n",
        "      Anak = MutasiSwap(Anak)\n",
        "      #print(\"AnakR :\",Anak)\n",
        "\n",
        "  fitAnak = fungsiObjectif(Anak,daftarKota)\n",
        "  #print(\"fitAnak :\",fitAnak)\n",
        "\n",
        "  # print(\"fitness:\",fitAnak.min())\n",
        "\n",
        "  [P, fitP]= Elitism (P,Anak,fitP,fitAnak)   \n",
        "  \n",
        "print(\"fitness populasi akhir:\",fitP)\n",
        "print(\"fitness akhir:\",fitP.min())\n",
        "print(\"rute akhir :\",P[fitP.argmin()])"
      ],
      "execution_count": null,
      "outputs": [
        {
          "output_type": "stream",
          "text": [
            "P0 : [[1 2 0 4 3]\n",
            " [0 1 4 2 3]\n",
            " [1 2 0 3 4]\n",
            " [3 1 4 0 2]]\n",
            "fitness populasi awal: [26.32316364 23.75452159 20.83130956 21.08709566]\n",
            "fitness terbaik awal: 20.83130955811703\n",
            "rute awal : [1 2 0 3 4]\n",
            "fitness populasi akhir: [20.83130956 20.83130956 20.83130956 21.08709566]\n",
            "fitness akhir: 20.83130955811703\n",
            "rute akhir : [1 2 0 3 4]\n"
          ],
          "name": "stdout"
        }
      ]
    }
  ]
}