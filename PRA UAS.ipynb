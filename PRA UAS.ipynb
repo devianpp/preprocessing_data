{
  "nbformat": 4,
  "nbformat_minor": 0,
  "metadata": {
    "colab": {
      "name": "Untitled11.ipynb",
      "provenance": [],
      "authorship_tag": "ABX9TyMur01uT5BI6WbI3g1WG3Hs",
      "include_colab_link": true
    },
    "kernelspec": {
      "name": "python3",
      "display_name": "Python 3"
    },
    "language_info": {
      "name": "python"
    }
  },
  "cells": [
    {
      "cell_type": "markdown",
      "metadata": {
        "id": "view-in-github",
        "colab_type": "text"
      },
      "source": [
        "<a href=\"https://colab.research.google.com/github/devianpp/preprocessing_data/blob/main/PRA%20UAS.ipynb\" target=\"_parent\"><img src=\"https://colab.research.google.com/assets/colab-badge.svg\" alt=\"Open In Colab\"/></a>"
      ]
    },
    {
      "cell_type": "markdown",
      "metadata": {
        "id": "NVgANkPMOugj"
      },
      "source": [
        "Memanggil Library"
      ]
    },
    {
      "cell_type": "code",
      "metadata": {
        "id": "NgeskzFPOxH-"
      },
      "source": [
        "import numpy as np\n",
        "import random\n",
        "from array import *"
      ],
      "execution_count": null,
      "outputs": []
    },
    {
      "cell_type": "markdown",
      "metadata": {
        "id": "Q7gaGyG1QUzW"
      },
      "source": [
        "Membuat Daftar Kota"
      ]
    },
    {
      "cell_type": "code",
      "metadata": {
        "colab": {
          "base_uri": "https://localhost:8080/"
        },
        "id": "pFPq4rVzQXoS",
        "outputId": "3fc12c4a-be77-4f29-e6cc-1988727446cf"
      },
      "source": [
        "daftarKota = [[0,0], [5,6], [1,4], [3,4], [7,7]]\n",
        "print (\"Koordinat Kota\")\n",
        "for i in daftarKota:\n",
        "  for j in i:\n",
        "    print(j, end=\" \")\n",
        "  print() \n",
        "\n",
        "jumlahKota = len(daftarKota)\n",
        "print(\"Jumlah Kota :\", jumlahKota)"
      ],
      "execution_count": null,
      "outputs": [
        {
          "output_type": "stream",
          "text": [
            "Koordinat Kota\n",
            "0 0 \n",
            "5 6 \n",
            "1 4 \n",
            "3 4 \n",
            "7 7 \n",
            "Jumlah Kota : 5\n"
          ],
          "name": "stdout"
        }
      ]
    },
    {
      "cell_type": "markdown",
      "metadata": {
        "id": "l0GJ_BGRR4dE"
      },
      "source": [
        "Inisialisasi Populasi"
      ]
    },
    {
      "cell_type": "code",
      "metadata": {
        "colab": {
          "base_uri": "https://localhost:8080/"
        },
        "id": "rEV-5shLR8Ak",
        "outputId": "afdf0eee-0796-4d5e-faf4-69fa46f202bd"
      },
      "source": [
        "def initPopulasi(ukuranPopulasi, jumlahKota):\n",
        "  P = np.empty((ukuranPopulasi,jumlahKota))\n",
        "  P = P.astype('int')\n",
        "  for i in range(ukuranPopulasi):\n",
        "    I = np.random.permutation(jumlahKota)\n",
        "    for j in range(jumlahKota):\n",
        "      P[i][j] = I[j]\n",
        "  return P\n",
        "\n",
        "ukuranPopulasi = 4\n",
        "P = initPopulasi(ukuranPopulasi,jumlahKota)\n",
        "print(P)"
      ],
      "execution_count": null,
      "outputs": [
        {
          "output_type": "stream",
          "text": [
            "[[1 2 0 3 4]\n",
            " [1 2 0 3 4]\n",
            " [3 1 0 4 2]\n",
            " [4 3 1 0 2]]\n"
          ],
          "name": "stdout"
        }
      ]
    },
    {
      "cell_type": "markdown",
      "metadata": {
        "id": "JxnVlatDYeF3"
      },
      "source": [
        "membuat fungsi objektif"
      ]
    },
    {
      "cell_type": "code",
      "metadata": {
        "colab": {
          "base_uri": "https://localhost:8080/"
        },
        "id": "x0Zjs59ZYhqq",
        "outputId": "954e7d5c-bc5a-4c08-cadf-17eb6a7fe214"
      },
      "source": [
        "def fungsiObjectif(populasi, daftarKota):\n",
        "  sz = populasi.shape\n",
        "  ukuranPopulasi = sz[0]\n",
        "  jumlahKota = sz[1]\n",
        "\n",
        "  matrikJarak = np.empty((ukuranPopulasi))\n",
        "  matrikJarak = matrikJarak.astype('float')\n",
        "  n = len(daftarKota)\n",
        "\n",
        "  for i in range (ukuranPopulasi):\n",
        "    jarak = 0\n",
        "    for j in range (n-1):\n",
        "      jrkX = daftarKota[populasi[i][j]][0]-daftarKota[populasi[i][j+1]][0]\n",
        "      jrkY = daftarKota[populasi[i][j]][1]-daftarKota[populasi[i][j+1]][1]\n",
        "      d = np.sqrt(jrkX**2 + jrkY**2)\n",
        "      jarak = jarak+d\n",
        "\n",
        "    dn = np.sqrt((daftarKota[populasi[i][n-1]][0]-daftarKota[populasi[i][0]][0])**2 + (daftarKota[populasi[i][n-1]][1]-daftarKota[populasi[i][0]][1])**2)\n",
        "    jarak = jarak+dn\n",
        "    matrikJarak[i]= jarak\n",
        "\n",
        "  return matrikJarak\n",
        "\n",
        "fitP = fungsiObjectif(P,daftarKota)\n",
        "print(fitP)\n"
      ],
      "execution_count": null,
      "outputs": [
        {
          "output_type": "stream",
          "text": [
            "[20.83130956 20.83130956 29.24637567 26.46998636]\n"
          ],
          "name": "stdout"
        }
      ]
    },
    {
      "cell_type": "markdown",
      "metadata": {
        "id": "5h4DEyj8avpc"
      },
      "source": [
        "seleksi menngunakan tournamen wheel"
      ]
    },
    {
      "cell_type": "markdown",
      "metadata": {
        "id": "ArF6pVibazZz"
      },
      "source": [
        "ukuran k = 2"
      ]
    },
    {
      "cell_type": "markdown",
      "metadata": {
        "id": "kaeP2EHTa1VY"
      },
      "source": [
        "jumlah induk yang akan dipilih adalah 2"
      ]
    },
    {
      "cell_type": "code",
      "metadata": {
        "colab": {
          "base_uri": "https://localhost:8080/"
        },
        "id": "4qpzYuooa5W4",
        "outputId": "071157fd-ddfe-4de5-c2b8-62f09fc78ba4"
      },
      "source": [
        "def seleksi (P,fsObj):\n",
        "  jmlInduk = 2\n",
        "  sz = P.shape\n",
        "  ukuranPopulasi = sz[0]\n",
        "  jumlahKota = sz[1]\n",
        "\n",
        "  Induk = np.empty((jmlInduk,jumlahKota))\n",
        "  Induk = Induk.astype('int')\n",
        "  \n",
        "  for i in range (2):\n",
        "    # memilih dua individu secara acak \n",
        "    r1 = random.randint(0,ukuranPopulasi-1)\n",
        "    r2 = random.randint(0,ukuranPopulasi-1)\n",
        "    \n",
        "    if  fsObj[r1] < fsObj [r2]:\n",
        "      for j in range(jumlahKota):\n",
        "        Induk [i][j] = P[r1][j]\n",
        "    else:\n",
        "      for j in range(jumlahKota):\n",
        "        Induk [i][j] = P[r2][j]\n",
        "  return Induk\n",
        "\n",
        "Induk = seleksi(P,fitP)\n",
        "print(Induk)"
      ],
      "execution_count": null,
      "outputs": [
        {
          "output_type": "stream",
          "text": [
            "[[1 2 0 3 4]\n",
            " [1 2 0 3 4]]\n"
          ],
          "name": "stdout"
        }
      ]
    },
    {
      "cell_type": "markdown",
      "metadata": {
        "id": "tnq34aO2cwjG"
      },
      "source": [
        "Rekombinasi dengan metode PMX jumlah anak yang dihasilkan adalah 2 "
      ]
    },
    {
      "cell_type": "code",
      "metadata": {
        "colab": {
          "base_uri": "https://localhost:8080/"
        },
        "id": "9bBH_Ls6c2ah",
        "outputId": "ac9add36-047b-40df-8cd4-a9619ba8c0e1"
      },
      "source": [
        "#crossover \n",
        "\n",
        "def PMX(Induk):\n",
        "  sz = Induk.shape\n",
        "  brs = sz[0]\n",
        "  kol = sz[1]\n",
        "  #print(sz, brs, kol)\n",
        "\n",
        "  Anak = np.empty((2,kol))\n",
        "  Anak = Anak.astype('int')\n",
        "\n",
        "  r1 = random.randint(1,kol-2)\n",
        "\n",
        "  for i0 in range(r1): \n",
        "\n",
        "    Anak [0][i0] = Induk[0][i0]\n",
        "    Anak [1][i0] = Induk[1][i0]\n",
        "\n",
        "  batasCek1 = r1\n",
        "  batasCek2 = r1\n",
        "\n",
        "  for i in range(kol):\n",
        "    m = (i+r1)%kol\n",
        "\n",
        "    n1 = Induk[0][i] \n",
        "    n2 = Induk[1][i]\n",
        "\n",
        "    #mengecek apakah kota tertentu sudah ada di anak\n",
        "    idxAda1 = 0\n",
        "    idxAda2 = 0\n",
        "    for j1 in range(batasCek1): \n",
        "      \n",
        "      if batasCek1>(kol-1):\n",
        "        idxAda1 = 1\n",
        "\n",
        "      if Anak [0][j1] ==n2: \n",
        "        idxAda1 = 1\n",
        "            \n",
        "    for j2 in range(batasCek2): \n",
        "      \n",
        "      if batasCek2>(kol-1):\n",
        "        idxAda2 = 1\n",
        "\n",
        "      if Anak [1][i0]  == n1: \n",
        "        idxAda2 = 1\n",
        "\n",
        "    if idxAda1 == 0:\n",
        "      Anak[0][batasCek1] = n2\n",
        "      batasCek1 = batasCek1 +1\n",
        "   \n",
        "    if idxAda2 == 0:\n",
        "      Anak[1][batasCek2] = n1\n",
        "      batasCek2 = batasCek2 +1\n",
        "   \n",
        "  return Anak\n",
        "\n",
        "AnakCX = PMX(Induk)\n",
        "print(\"Anak :\",AnakCX)"
      ],
      "execution_count": null,
      "outputs": [
        {
          "output_type": "stream",
          "text": [
            "Anak : [[1 2 0 3 4]\n",
            " [1 2 1 0 3]]\n"
          ],
          "name": "stdout"
        }
      ]
    },
    {
      "cell_type": "markdown",
      "metadata": {
        "id": "rbqmvWHugR5D"
      },
      "source": [
        "Mutasi dengan swap"
      ]
    },
    {
      "cell_type": "markdown",
      "metadata": {
        "id": "MLHCvvV4gVHM"
      },
      "source": [
        "index kota yang di swap pada kedua anak sama"
      ]
    },
    {
      "cell_type": "code",
      "metadata": {
        "colab": {
          "base_uri": "https://localhost:8080/"
        },
        "id": "-xpOSGU6hnzt",
        "outputId": "720f8f66-a2b1-494d-ac52-fb6b2443d05d"
      },
      "source": [
        "def MutasiSwap(Induk):\n",
        "  sz = Induk.shape\n",
        "  brs = sz[0]\n",
        "  kol = sz[1]\n",
        "\n",
        "  Anak = np.empty((2,kol))\n",
        "  Anak = Anak.astype('int')\n",
        "\n",
        "  Anak = Induk\n",
        "\n",
        "  r1 = random.randint(0,kol-1)\n",
        "  r2 = random.randint(0,kol-1)\n",
        "\n",
        "  while r1 == r2:\n",
        "    r2 = random.randint(0,kol-1)\n",
        "\n",
        "  I1rs1 = Induk [0][r1]\n",
        "  I1rs2 = Induk [0][r2]\n",
        "  I2rs1 = Induk [1][r1]\n",
        "  I2rs2 = Induk [1][r2] \n",
        "\n",
        "  Anak [0][r1] = I1rs2\n",
        "  Anak [0][r2] = I1rs1\n",
        "  Anak [1][r1] = I2rs2  \n",
        "  Anak [1][r2] = I2rs1\n",
        "\n",
        "  return Anak\n",
        "\n",
        "print(\"AnakCX :\",AnakCX)\n",
        "AnakM = MutasiSwap(AnakCX)\n",
        "print(\"AnakM :\",AnakM)"
      ],
      "execution_count": null,
      "outputs": [
        {
          "output_type": "stream",
          "text": [
            "AnakCX : [[1 2 0 3 4]\n",
            " [1 2 1 0 3]]\n",
            "AnakM : [[1 3 0 2 4]\n",
            " [1 0 1 2 3]]\n"
          ],
          "name": "stdout"
        }
      ]
    },
    {
      "cell_type": "code",
      "metadata": {
        "id": "PvFrwU4ViJzk"
      },
      "source": [
        "Elitism (steady state replacement)"
      ],
      "execution_count": null,
      "outputs": []
    },
    {
      "cell_type": "code",
      "metadata": {
        "colab": {
          "base_uri": "https://localhost:8080/"
        },
        "id": "Rhzv-XSTiOAf",
        "outputId": "73cd68c6-dbc9-448e-87b2-9d9e13962d08"
      },
      "source": [
        "def Elitism(P,Anak,fitP,fitAnak):\n",
        "  szP = P.shape\n",
        "  brsP = szP[0]\n",
        "  kolP = szP[1]\n",
        "  szA = Anak.shape\n",
        "  brsA = szA[0]\n",
        "  kolA = szA[1]\n",
        "\n",
        "  #print (fitP)\n",
        "  for i in range(brsA):\n",
        "    iJelek = fitP.max()\n",
        "    idxJelek = fitP.argmax()\n",
        "\n",
        "    if fitAnak[i]<iJelek:\n",
        "      fitP[idxJelek] = fitAnak[i]\n",
        "      for j in range (kolP):\n",
        "        P[idxJelek][j] = Anak[i][j]\n",
        "\n",
        "  return [P,fitP]\n",
        "\n",
        "fitAnak= fungsiObjectif(AnakM,daftarKota)\n",
        "print(P)\n",
        "print(AnakM)\n",
        "print(fitP)\n",
        "print(fitAnak)\n",
        "P = Elitism (P,AnakM,fitP,fitAnak)\n",
        "print(P)\n",
        "print(fitP)"
      ],
      "execution_count": null,
      "outputs": [
        {
          "output_type": "stream",
          "text": [
            "[[1 2 0 3 4]\n",
            " [1 2 0 3 4]\n",
            " [3 1 0 4 2]\n",
            " [4 3 1 0 2]]\n",
            "[[1 3 0 2 4]\n",
            " [1 0 1 2 3]]\n",
            "[20.83130956 20.83130956 29.24637567 26.46998636]\n",
            "[20.89580466 24.92106243]\n",
            "[array([[1, 2, 0, 3, 4],\n",
            "       [1, 2, 0, 3, 4],\n",
            "       [1, 3, 0, 2, 4],\n",
            "       [1, 0, 1, 2, 3]]), array([20.83130956, 20.83130956, 20.89580466, 24.92106243])]\n",
            "[20.83130956 20.83130956 20.89580466 24.92106243]\n"
          ],
          "name": "stdout"
        }
      ]
    },
    {
      "cell_type": "markdown",
      "metadata": {
        "id": "u7nAvyAKlbMs"
      },
      "source": [
        "Prosedur GA"
      ]
    },
    {
      "cell_type": "code",
      "metadata": {
        "colab": {
          "base_uri": "https://localhost:8080/"
        },
        "id": "cDAQ-6eZld5W",
        "outputId": "8cdb03df-f7b9-4eb7-a464-b734acae9381"
      },
      "source": [
        "# Inisialisasi paramater\n",
        "PCX = 0.95\n",
        "Pm = 0.01\n",
        "ukuranPopulasi = 4\n",
        "max_generasi = 5\n",
        "\n",
        "# Inisialisasi populasi \n",
        "\n",
        "P = initPopulasi (ukuranPopulasi,jumlahKota)\n",
        "print(\"P0 :\",P)\n",
        "\n",
        "#melakukan evaluasi P\n",
        "fitP = fungsiObjectif(P,daftarKota)\n",
        "print(\"fitness populasi awal:\",fitP)\n",
        "\n",
        "print(\"fitness terbaik awal:\",fitP.min())\n",
        "print(\"rute awal :\",P[fitP.argmin()])\n",
        "\n",
        "\n",
        "for i in range(max_generasi):\n",
        "  \n",
        "  Induk = seleksi(P,fitP)\n",
        "\n",
        "  Anak = Induk\n",
        "\n",
        "  rxo = random.random()\n",
        "\n",
        "  if rxo < PCX:\n",
        "    Anak = PMX(Induk)\n",
        "\n",
        "    rm = random.random()\n",
        "    if rm < Pm:\n",
        "      Anak = MutasiSwap(Anak)\n",
        "\n",
        "  fitAnak = fungsiObjectif(Anak,daftarKota)\n",
        "\n",
        "  [P, fitP]= Elitism (P,Anak,fitP,fitAnak)   \n",
        "  \n",
        "print(\"fitness populasi akhir:\",fitP)\n",
        "print(\"fitness akhir:\",fitP.min())\n",
        "print(\"rute akhir :\",P[fitP.argmin()])"
      ],
      "execution_count": null,
      "outputs": [
        {
          "output_type": "stream",
          "text": [
            "P0 : [[0 4 2 3 1]\n",
            " [4 0 3 2 1]\n",
            " [4 3 2 0 1]\n",
            " [2 3 0 4 1]]\n",
            "fitness populasi awal: [29.24637567 23.60769887 21.16942328 23.60769887]\n",
            "fitness terbaik awal: 21.169423279024105\n",
            "rute awal : [4 3 2 0 1]\n",
            "fitness populasi akhir: [21.02260056 21.02260056 21.02260056 21.02260056]\n",
            "fitness akhir: 21.02260056222933\n",
            "rute akhir : [4 3 2 0 4]\n"
          ],
          "name": "stdout"
        }
      ]
    }
  ]
}